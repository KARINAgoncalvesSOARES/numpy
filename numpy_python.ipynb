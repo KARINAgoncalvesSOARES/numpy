{
  "nbformat": 4,
  "nbformat_minor": 0,
  "metadata": {
    "colab": {
      "provenance": [],
      "authorship_tag": "ABX9TyNCJRVo8DlckydZIOQ8khER",
      "include_colab_link": true
    },
    "kernelspec": {
      "name": "python3",
      "display_name": "Python 3"
    },
    "language_info": {
      "name": "python"
    }
  },
  "cells": [
    {
      "cell_type": "markdown",
      "metadata": {
        "id": "view-in-github",
        "colab_type": "text"
      },
      "source": [
        "<a href=\"https://colab.research.google.com/github/KARINAgoncalvesSOARES/numpy/blob/main/numpy_python.ipynb\" target=\"_parent\"><img src=\"https://colab.research.google.com/assets/colab-badge.svg\" alt=\"Open In Colab\"/></a>"
      ]
    },
    {
      "cell_type": "markdown",
      "source": [
        "#Numpy\n",
        "\n",
        "Primeiro, é importante lembrar que você precisa importar essa biblioteca no seu código. Convencionou-se que a bibliteca deve ser importada da seguite maneira:\n",
        "\n"
      ],
      "metadata": {
        "id": "C5IKqlWReMjX"
      }
    },
    {
      "cell_type": "code",
      "execution_count": 1,
      "metadata": {
        "id": "bh87DSi1WrT-"
      },
      "outputs": [],
      "source": [
        "import numpy as np"
      ]
    },
    {
      "cell_type": "markdown",
      "source": [
        "Agora, vejamos um primeiro exemplo de criação de um array Numpy:"
      ],
      "metadata": {
        "id": "wj3QvJHkeyH_"
      }
    },
    {
      "cell_type": "code",
      "source": [
        "a = np.array([0,1,2,3])\n",
        "print(a)\n",
        "print(type(a))\n",
        "print(a.ndim)"
      ],
      "metadata": {
        "colab": {
          "base_uri": "https://localhost:8080/"
        },
        "id": "j6UsNaG1XrUi",
        "outputId": "bb8c77d1-14c5-49f2-d121-12fbb5ffd0d7"
      },
      "execution_count": 3,
      "outputs": [
        {
          "output_type": "stream",
          "name": "stdout",
          "text": [
            "[0 1 2 3]\n",
            "<class 'numpy.ndarray'>\n",
            "1\n"
          ]
        }
      ]
    },
    {
      "cell_type": "markdown",
      "source": [
        "###Criação de Arrays\n",
        "####Construção Manual de Arrays\n"
      ],
      "metadata": {
        "id": "rp35sK6-fG6x"
      }
    },
    {
      "cell_type": "code",
      "source": [
        "b = np.array([[0,1,2],\n",
        "              [3,4,5]])\n",
        "\n",
        "print(b)\n",
        "print(b.ndim)\n",
        "print(b.shape)\n",
        "print(len(b))"
      ],
      "metadata": {
        "colab": {
          "base_uri": "https://localhost:8080/"
        },
        "id": "Qk2-9MVhemy8",
        "outputId": "e83cb338-9861-48b4-8786-9eee30388232"
      },
      "execution_count": 5,
      "outputs": [
        {
          "output_type": "stream",
          "name": "stdout",
          "text": [
            "[[0 1 2]\n",
            " [3 4 5]]\n",
            "2\n",
            "(2, 3)\n",
            "2\n"
          ]
        }
      ]
    },
    {
      "cell_type": "markdown",
      "source": [
        "####Criação utilizando funções"
      ],
      "metadata": {
        "id": "I-JqXp8Nfwcc"
      }
    },
    {
      "cell_type": "code",
      "source": [
        "c = np.arange(10, 20)\n",
        "\n",
        "print(c)\n",
        "print('')\n",
        "\n",
        "#np.linspace() -> Permite criar um array uniformemente espaçados seguindo os elementos passados como parametro.\n",
        "d = np.linspace(1,10,13, endpoint=False) \n",
        "print(d)"
      ],
      "metadata": {
        "colab": {
          "base_uri": "https://localhost:8080/"
        },
        "id": "kzfJdPebfm4S",
        "outputId": "7c5c2537-5677-4fe4-8e25-a40abfeed541"
      },
      "execution_count": 21,
      "outputs": [
        {
          "output_type": "stream",
          "name": "stdout",
          "text": [
            "[10 11 12 13 14 15 16 17 18 19]\n",
            "\n",
            "[1.         1.69230769 2.38461538 3.07692308 3.76923077 4.46153846\n",
            " 5.15384615 5.84615385 6.53846154 7.23076923 7.92307692 8.61538462\n",
            " 9.30769231]\n"
          ]
        }
      ]
    },
    {
      "cell_type": "markdown",
      "source": [
        "### Arrays comuns"
      ],
      "metadata": {
        "id": "tNkSQ65f2xFi"
      }
    },
    {
      "cell_type": "code",
      "source": [
        "#um = np.ones(3)\n",
        "um = np.ones((2,3))\n",
        "print(um)\n",
        "print('')\n",
        "\n",
        "#e = np.zeros(5)\n",
        "e = np.zeros((5,5))\n",
        "print(e)\n",
        "print('')\n",
        "\n",
        "f = np.random.rand(10,10) #Criando um array de números aleatórios\n",
        "print(f)"
      ],
      "metadata": {
        "colab": {
          "base_uri": "https://localhost:8080/"
        },
        "id": "7Ov4xeSViAOb",
        "outputId": "85829005-9bbd-485c-ba9f-5599c67ea7f4"
      },
      "execution_count": 22,
      "outputs": [
        {
          "output_type": "stream",
          "name": "stdout",
          "text": [
            "[[1. 1. 1.]\n",
            " [1. 1. 1.]]\n",
            "\n",
            "[[0. 0. 0. 0. 0.]\n",
            " [0. 0. 0. 0. 0.]\n",
            " [0. 0. 0. 0. 0.]\n",
            " [0. 0. 0. 0. 0.]\n",
            " [0. 0. 0. 0. 0.]]\n",
            "\n",
            "[[0.96455023 0.91887268 0.21619094 0.95408054 0.38525438 0.0696711\n",
            "  0.77587194 0.71590452 0.70248346 0.7617989 ]\n",
            " [0.35293041 0.39761371 0.40491033 0.07346459 0.66725055 0.31164855\n",
            "  0.19734264 0.22667883 0.98592529 0.52200411]\n",
            " [0.38973671 0.98088681 0.19970065 0.06438248 0.85567658 0.45680277\n",
            "  0.35601654 0.33271728 0.46242319 0.03897849]\n",
            " [0.95401411 0.56553178 0.56307999 0.06660565 0.20325566 0.39558651\n",
            "  0.77909097 0.52226864 0.80608441 0.45620285]\n",
            " [0.56937847 0.81168338 0.06884311 0.85878242 0.79642808 0.60162717\n",
            "  0.0018526  0.8506006  0.39277511 0.49951862]\n",
            " [0.64748641 0.65467687 0.03279549 0.36162363 0.01610011 0.61136005\n",
            "  0.01353015 0.69828156 0.47364444 0.45694748]\n",
            " [0.65559581 0.60856815 0.85263426 0.17235958 0.6139532  0.23271996\n",
            "  0.51199589 0.35288564 0.96144821 0.73326715]\n",
            " [0.71898614 0.75801066 0.23980445 0.00472412 0.36894185 0.72516502\n",
            "  0.2335786  0.80853301 0.05470498 0.71700868]\n",
            " [0.65799592 0.22799115 0.52055182 0.1665717  0.31775402 0.65544589\n",
            "  0.53275957 0.17328781 0.3939125  0.03607075]\n",
            " [0.73169512 0.81643627 0.40425501 0.18156247 0.46058069 0.31588289\n",
            "  0.87532873 0.27040536 0.72000035 0.70213837]]\n"
          ]
        }
      ]
    },
    {
      "cell_type": "code",
      "source": [
        "# Criando array diagonal\n",
        "g = np.eye(3)\n",
        "print(g)\n",
        "print('')\n",
        "\n",
        "h = np.diag(np.array([1,2,3,4]))\n",
        "print(h)"
      ],
      "metadata": {
        "colab": {
          "base_uri": "https://localhost:8080/"
        },
        "id": "nj8Taln67KX-",
        "outputId": "a64bb960-edd4-4ab2-fef7-ec62d4661f7f"
      },
      "execution_count": 25,
      "outputs": [
        {
          "output_type": "stream",
          "name": "stdout",
          "text": [
            "[[1. 0. 0.]\n",
            " [0. 1. 0.]\n",
            " [0. 0. 1.]]\n",
            "\n",
            "[[1 0 0 0]\n",
            " [0 2 0 0]\n",
            " [0 0 3 0]\n",
            " [0 0 0 4]]\n"
          ]
        }
      ]
    },
    {
      "cell_type": "markdown",
      "source": [
        "###Indexação e Cortes (Slices) de Arrays"
      ],
      "metadata": {
        "id": "-nFsJgLG512O"
      }
    },
    {
      "cell_type": "code",
      "source": [
        "a = np.arange(10,21)\n",
        "print(a)\n",
        "print(a[-2]) # Acessando elementos da array\n",
        "print('')\n",
        "\n",
        "print(a[2:9])\n",
        "print('')\n",
        "print(a[8:2:-1])"
      ],
      "metadata": {
        "colab": {
          "base_uri": "https://localhost:8080/"
        },
        "id": "OEt4kxXX22XO",
        "outputId": "06e96dd0-dba9-4344-c240-35500535f2d1"
      },
      "execution_count": 37,
      "outputs": [
        {
          "output_type": "stream",
          "name": "stdout",
          "text": [
            "[10 11 12 13 14 15 16 17 18 19 20]\n",
            "19\n",
            "\n",
            "[12 13 14 15 16 17 18]\n",
            "\n",
            "[18 17 16 15 14 13]\n"
          ]
        }
      ]
    },
    {
      "cell_type": "code",
      "source": [
        "b = np.random.rand(5,5)\n",
        "print(b)\n",
        "print('')\n",
        "print(b[0][1]) # Culuna x linha\n",
        "print('')\n",
        "\n",
        "b[0,1] = 10 # Mudando o valor da array passando a posição como parâmetro\n",
        "print(b)\n",
        "print('')\n",
        "\n",
        "# Slice\n",
        "print(b[0:2, 2]) # Aqui está sendo específicado as linhas(0 e 2) e a coluna(2)"
      ],
      "metadata": {
        "colab": {
          "base_uri": "https://localhost:8080/"
        },
        "id": "GICmOJnU8XfB",
        "outputId": "32e9ca08-e01f-45bd-b0b1-cec964ec3267"
      },
      "execution_count": 35,
      "outputs": [
        {
          "output_type": "stream",
          "name": "stdout",
          "text": [
            "[[0.72786528 0.93579295 0.61717129 0.01559546 0.530037  ]\n",
            " [0.16791127 0.75077687 0.40702436 0.38301724 0.60701775]\n",
            " [0.25590353 0.82129093 0.29957353 0.75312203 0.78832782]\n",
            " [0.84087055 0.33126089 0.98968041 0.94881701 0.47261662]\n",
            " [0.08777909 0.68131331 0.64730918 0.34835878 0.65864375]]\n",
            "\n",
            "0.9357929548046835\n",
            "\n",
            "[[ 0.72786528 10.          0.61717129  0.01559546  0.530037  ]\n",
            " [ 0.16791127  0.75077687  0.40702436  0.38301724  0.60701775]\n",
            " [ 0.25590353  0.82129093  0.29957353  0.75312203  0.78832782]\n",
            " [ 0.84087055  0.33126089  0.98968041  0.94881701  0.47261662]\n",
            " [ 0.08777909  0.68131331  0.64730918  0.34835878  0.65864375]]\n",
            "\n",
            "[0.61717129 0.40702436]\n"
          ]
        }
      ]
    },
    {
      "cell_type": "code",
      "source": [],
      "metadata": {
        "id": "xcVMdBwU_TuX"
      },
      "execution_count": null,
      "outputs": []
    }
  ]
}